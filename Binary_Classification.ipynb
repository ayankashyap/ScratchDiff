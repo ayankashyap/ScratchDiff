{
 "cells": [
  {
   "cell_type": "code",
   "execution_count": 1,
   "id": "43d6aba9",
   "metadata": {},
   "outputs": [],
   "source": [
    "from sklearn.datasets import make_circles\n",
    "import numpy as np\n",
    "import matplotlib.pyplot as plt"
   ]
  },
  {
   "cell_type": "code",
   "execution_count": 2,
   "id": "b5f7034d",
   "metadata": {},
   "outputs": [],
   "source": [
    "import scratchdiff.Unit as sd\n",
    "from scratchdiff.Unit import Unit"
   ]
  },
  {
   "cell_type": "code",
   "execution_count": 3,
   "id": "90f2cb45",
   "metadata": {},
   "outputs": [],
   "source": [
    "def fetch_mnist():\n",
    "  import gzip\n",
    "  parse = lambda file: np.frombuffer(gzip.open(file).read(), dtype=np.uint8).copy()\n",
    "  X_train = parse(\"mnist/train-images-idx3-ubyte.gz\")[0x10:].reshape((-1, 28*28)).astype(np.float32)\n",
    "  Y_train = parse(\"mnist/train-labels-idx1-ubyte.gz\")[8:]\n",
    "  X_test = parse(\"mnist/t10k-images-idx3-ubyte.gz\")[0x10:].reshape((-1, 28*28)).astype(np.float32)\n",
    "  Y_test = parse(\"mnist/t10k-labels-idx1-ubyte.gz\")[8:]\n",
    "  return X_train, Y_train, X_test, Y_test\n",
    "\n",
    "X_train, Y_train, X_test, Y_test = fetch_mnist()"
   ]
  },
  {
   "cell_type": "code",
   "execution_count": 4,
   "id": "b8bd936f",
   "metadata": {},
   "outputs": [
    {
     "data": {
      "text/plain": [
       "(<matplotlib.image.AxesImage at 0x7f53b1ee8580>, 5)"
      ]
     },
     "execution_count": 4,
     "metadata": {},
     "output_type": "execute_result"
    },
    {
     "data": {
      "image/png": "[encoded data removed]",
      "text/plain": [
       "<Figure size 432x288 with 1 Axes>"
      ]
     },
     "metadata": {
      "needs_background": "light"
     },
     "output_type": "display_data"
    }
   ],
   "source": [
    "plt.imshow(X_train[0].reshape((28,28))) , Y_train[0]"
   ]
  },
  {
   "cell_type": "code",
   "execution_count": 5,
   "id": "30ecf7f4",
   "metadata": {},
   "outputs": [],
   "source": [
    "# 2 linear layers, one relu and finally logsoftmax\n",
    "BS = 28\n",
    "vec_dim = X_train.shape[-1] # 784\n",
    "W1 = Unit(np.random.randn(vec_dim, 16)* np.sqrt(2/vec_dim))\n",
    "B1 = Unit(np.random.randn(BS, 16)* np.sqrt(2/BS))\n",
    "W2 = Unit(np.random.randn(16, 16)* np.sqrt(2/16))\n",
    "B2 = Unit(np.random.randn(BS, 16)* np.sqrt(2/BS))\n",
    "W3 = Unit(np.random.randn(16, 10)* np.sqrt(2/16))\n",
    "B3 = Unit(np.random.randn(BS, 10)* np.sqrt(2/BS))\n"
   ]
  },
  {
   "cell_type": "code",
   "execution_count": 7,
   "id": "f0f6c027",
   "metadata": {},
   "outputs": [
    {
     "name": "stdout",
     "output_type": "stream",
     "text": [
      "<Unit array([[-2.4076061, -1.407606 , -0.407606 ],\n",
      "       [-1.407606 , -0.407606 , -2.4076061]], dtype=float32) with grad array([[0., 0., 0.],\n",
      "       [0., 0., 0.]]) and grad_fn=\"_add_Backward\">\n"
     ]
    },
    {
     "ename": "AttributeError",
     "evalue": "not enough data for array",
     "output_type": "error",
     "traceback": [
      "\u001b[0;31m---------------------------------------------------------------------------\u001b[0m",
      "\u001b[0;31mAttributeError\u001b[0m                            Traceback (most recent call last)",
      "\u001b[0;32m/tmp/ipykernel_567/1335078031.py\u001b[0m in \u001b[0;36m<module>\u001b[0;34m\u001b[0m\n\u001b[1;32m     18\u001b[0m \u001b[0mz\u001b[0m  \u001b[0;34m=\u001b[0m \u001b[0msd\u001b[0m\u001b[0;34m.\u001b[0m\u001b[0msum\u001b[0m\u001b[0;34m(\u001b[0m\u001b[0mout\u001b[0m\u001b[0;34m,\u001b[0m \u001b[0mkeepdims\u001b[0m\u001b[0;34m=\u001b[0m\u001b[0;32mFalse\u001b[0m\u001b[0;34m)\u001b[0m\u001b[0;34m\u001b[0m\u001b[0;34m\u001b[0m\u001b[0m\n\u001b[1;32m     19\u001b[0m \u001b[0mprint\u001b[0m\u001b[0;34m(\u001b[0m\u001b[0mout\u001b[0m\u001b[0;34m)\u001b[0m\u001b[0;34m\u001b[0m\u001b[0;34m\u001b[0m\u001b[0m\n\u001b[0;32m---> 20\u001b[0;31m \u001b[0mz\u001b[0m\u001b[0;34m.\u001b[0m\u001b[0mbackward_pass\u001b[0m\u001b[0;34m(\u001b[0m\u001b[0;34m)\u001b[0m\u001b[0;34m\u001b[0m\u001b[0;34m\u001b[0m\u001b[0m\n\u001b[0m\u001b[1;32m     21\u001b[0m \u001b[0mlexpsum\u001b[0m\u001b[0;34m.\u001b[0m\u001b[0mgrad\u001b[0m\u001b[0;34m\u001b[0m\u001b[0;34m\u001b[0m\u001b[0m\n",
      "\u001b[0;32m~/ayan/ScratchDiff/scratchdiff/Unit.py\u001b[0m in \u001b[0;36mbackward_pass\u001b[0;34m(self)\u001b[0m\n\u001b[1;32m     47\u001b[0m         \u001b[0mself\u001b[0m\u001b[0;34m.\u001b[0m\u001b[0mgrad\u001b[0m \u001b[0;34m=\u001b[0m \u001b[0mUnit\u001b[0m\u001b[0;34m(\u001b[0m\u001b[0;36m1\u001b[0m\u001b[0;34m,\u001b[0m \u001b[0mrequires_grad\u001b[0m\u001b[0;34m=\u001b[0m\u001b[0;32mFalse\u001b[0m\u001b[0;34m)\u001b[0m\u001b[0;34m\u001b[0m\u001b[0;34m\u001b[0m\u001b[0m\n\u001b[1;32m     48\u001b[0m         \u001b[0;32mfor\u001b[0m \u001b[0mn\u001b[0m \u001b[0;32min\u001b[0m \u001b[0mcomputation_order\u001b[0m\u001b[0;34m:\u001b[0m\u001b[0;34m\u001b[0m\u001b[0;34m\u001b[0m\u001b[0m\n\u001b[0;32m---> 49\u001b[0;31m             \u001b[0mn\u001b[0m\u001b[0;34m.\u001b[0m\u001b[0mderivative\u001b[0m\u001b[0;34m(\u001b[0m\u001b[0;34m)\u001b[0m\u001b[0;34m\u001b[0m\u001b[0;34m\u001b[0m\u001b[0m\n\u001b[0m\u001b[1;32m     50\u001b[0m \u001b[0;34m\u001b[0m\u001b[0m\n\u001b[1;32m     51\u001b[0m \u001b[0;34m\u001b[0m\u001b[0m\n",
      "\u001b[0;32m~/ayan/ScratchDiff/scratchdiff/Unit.py\u001b[0m in \u001b[0;36m_add_Backward\u001b[0;34m()\u001b[0m\n\u001b[1;32m    122\u001b[0m             \u001b[0mt1\u001b[0m\u001b[0;34m.\u001b[0m\u001b[0mgrad\u001b[0m\u001b[0;34m.\u001b[0m\u001b[0mdata\u001b[0m \u001b[0;34m+=\u001b[0m \u001b[0mcompress_gradient\u001b[0m\u001b[0;34m(\u001b[0m\u001b[0mout\u001b[0m\u001b[0;34m.\u001b[0m\u001b[0mgrad\u001b[0m\u001b[0;34m.\u001b[0m\u001b[0mdata\u001b[0m\u001b[0;34m,\u001b[0m \u001b[0mt1\u001b[0m\u001b[0;34m.\u001b[0m\u001b[0mdata\u001b[0m\u001b[0;34m.\u001b[0m\u001b[0mshape\u001b[0m\u001b[0;34m)\u001b[0m\u001b[0;34m\u001b[0m\u001b[0;34m\u001b[0m\u001b[0m\n\u001b[1;32m    123\u001b[0m         \u001b[0;32mif\u001b[0m \u001b[0mt2\u001b[0m\u001b[0;34m.\u001b[0m\u001b[0mrequires_grad\u001b[0m\u001b[0;34m:\u001b[0m\u001b[0;34m\u001b[0m\u001b[0;34m\u001b[0m\u001b[0m\n\u001b[0;32m--> 124\u001b[0;31m             \u001b[0mt2\u001b[0m\u001b[0;34m.\u001b[0m\u001b[0mgrad\u001b[0m\u001b[0;34m.\u001b[0m\u001b[0mdata\u001b[0m \u001b[0;34m+=\u001b[0m \u001b[0mcompress_gradient\u001b[0m\u001b[0;34m(\u001b[0m\u001b[0mout\u001b[0m\u001b[0;34m.\u001b[0m\u001b[0mgrad\u001b[0m\u001b[0;34m.\u001b[0m\u001b[0mdata\u001b[0m\u001b[0;34m,\u001b[0m \u001b[0mt2\u001b[0m\u001b[0;34m.\u001b[0m\u001b[0mdata\u001b[0m\u001b[0;34m.\u001b[0m\u001b[0mshape\u001b[0m\u001b[0;34m)\u001b[0m\u001b[0;34m\u001b[0m\u001b[0;34m\u001b[0m\u001b[0m\n\u001b[0m\u001b[1;32m    125\u001b[0m \u001b[0;34m\u001b[0m\u001b[0m\n\u001b[1;32m    126\u001b[0m     \u001b[0mout\u001b[0m\u001b[0;34m.\u001b[0m\u001b[0mderivative\u001b[0m \u001b[0;34m=\u001b[0m \u001b[0m_add_Backward\u001b[0m\u001b[0;34m\u001b[0m\u001b[0;34m\u001b[0m\u001b[0m\n",
      "\u001b[0;32m~/ayan/ScratchDiff/scratchdiff/Unit.py\u001b[0m in \u001b[0;36mcompress_gradient\u001b[0;34m(grad, other_tensor_shape)\u001b[0m\n\u001b[1;32m    110\u001b[0m     \u001b[0;32mfor\u001b[0m \u001b[0mi\u001b[0m\u001b[0;34m,\u001b[0m \u001b[0mdim\u001b[0m \u001b[0;32min\u001b[0m \u001b[0menumerate\u001b[0m\u001b[0;34m(\u001b[0m\u001b[0mother_tensor_shape\u001b[0m\u001b[0;34m)\u001b[0m\u001b[0;34m:\u001b[0m\u001b[0;34m\u001b[0m\u001b[0;34m\u001b[0m\u001b[0m\n\u001b[1;32m    111\u001b[0m         \u001b[0;32mif\u001b[0m \u001b[0mdim\u001b[0m \u001b[0;34m==\u001b[0m \u001b[0;36m1\u001b[0m\u001b[0;34m:\u001b[0m\u001b[0;34m\u001b[0m\u001b[0;34m\u001b[0m\u001b[0m\n\u001b[0;32m--> 112\u001b[0;31m             \u001b[0mgrad\u001b[0m\u001b[0;34m.\u001b[0m\u001b[0mdata\u001b[0m \u001b[0;34m=\u001b[0m \u001b[0mnp\u001b[0m\u001b[0;34m.\u001b[0m\u001b[0msum\u001b[0m\u001b[0;34m(\u001b[0m\u001b[0mgrad\u001b[0m\u001b[0;34m.\u001b[0m\u001b[0mdata\u001b[0m\u001b[0;34m,\u001b[0m \u001b[0maxis\u001b[0m\u001b[0;34m=\u001b[0m\u001b[0mi\u001b[0m\u001b[0;34m,\u001b[0m \u001b[0mkeepdims\u001b[0m\u001b[0;34m=\u001b[0m\u001b[0;32mTrue\u001b[0m\u001b[0;34m)\u001b[0m\u001b[0;34m\u001b[0m\u001b[0;34m\u001b[0m\u001b[0m\n\u001b[0m\u001b[1;32m    113\u001b[0m     \u001b[0;32mreturn\u001b[0m \u001b[0mgrad\u001b[0m\u001b[0;34m\u001b[0m\u001b[0;34m\u001b[0m\u001b[0m\n\u001b[1;32m    114\u001b[0m \u001b[0;34m\u001b[0m\u001b[0m\n",
      "\u001b[0;31mAttributeError\u001b[0m: not enough data for array"
     ]
    }
   ],
   "source": [
    "def linear(w,b, x):\n",
    "    return sd.add(sd.matmul(x,w), b)\n",
    "\n",
    "# def logsoftmax(t):\n",
    "#     c = np.max(t.data, axis=1).reshape(-1,1)\n",
    "#     m = sd.add(t, -c)\n",
    "#     lexpsum = sd.log(sd.sum(sd.exp(m), axis=1))\n",
    "#     itm = sd.add(t,-c)\n",
    "#     out = sd.add(itm, -lexpsum.data)\n",
    "#     return out\n",
    "\n",
    "t = Unit([[1,2,3], [2,3,1]])\n",
    "c = np.max(t.data, axis=1).reshape(-1,1)\n",
    "m = sd.add(t, Unit(-c, requires_grad=False))\n",
    "lexpsum = sd.log(sd.sum(sd.exp(m), axis=1))\n",
    "out = sd.add(m, sd.neg(lexpsum) )\n",
    "# y = logsoftmax(x)\n",
    "z  = sd.sum(out, keepdims=False)\n",
    "print(out)\n",
    "z.backward_pass()\n",
    "lexpsum.grad"
   ]
  },
  {
   "cell_type": "code",
   "execution_count": null,
   "id": "f9ff50e7",
   "metadata": {},
   "outputs": [],
   "source": [
    "x = sd.neg(np.array([[1,2],[3,4]]))\n",
    "x\n",
    "# y = sd.sum(x, keepdims=False)\n",
    "# y"
   ]
  },
  {
   "cell_type": "code",
   "execution_count": null,
   "id": "2ea8bbb0",
   "metadata": {},
   "outputs": [],
   "source": [
    "(-np.max(Unit([[1,2,3], [2,3,1]]).data, axis=1)).reshape(-1,1)"
   ]
  },
  {
   "attachments": {
    "image-2.png": {
     "image/png": "[encoded data removed]"
    },
    "image.png": {
     "image/png": "[encoded data removed]"
    }
   },
   "cell_type": "markdown",
   "id": "ef59a56e",
   "metadata": {},
   "source": [
    "![image.png](attachment:image.png)\n",
    "![image-2.png](attachment:image-2.png)"
   ]
  },
  {
   "cell_type": "code",
   "execution_count": null,
   "id": "2768e07b",
   "metadata": {},
   "outputs": [],
   "source": [
    "for epoch in range(10):\n",
    "    for i in range(0, X_train.shape[0],BS):\n",
    "        W1.zero_grad()\n",
    "        B1.zero_grad()\n",
    "        W2.zero_grad()\n",
    "        B2.zero_grad()\n",
    "        W3.zero_grad()\n",
    "        B3.zero_grad()\n",
    "        print(i)\n",
    "        l1 = linear(W1, B1, X_train[i:i+BS])\n",
    "        l1 = sd.relu(l1)\n",
    "        l2 = linear(W2, B2, l1)\n",
    "        l2 = sd.relu(l2)\n",
    "        l3 = linear(W3, B3, l2)\n",
    "        l3 = sd.add(l3, -np.amax(l3.data, axis=1).reshape((28,1)))\n",
    "        l3 = sd.logsoftmax(l3)\n",
    "        yhat = sd.crossentropy(l3, Y_train[i:i+BS].reshape((28,1)))\n",
    "        yhat.backward_pass()\n",
    "        W1.data -= 0.001*W1.grad.data\n",
    "        B1.data -= 0.001*B1.grad.data\n",
    "        W2.data -= 0.001*W2.grad.data\n",
    "        B2.data -= 0.001*B2.grad.data\n",
    "        W3.data -= 0.001*W3.grad.data\n",
    "        B3.data -= 0.001*B3.grad.data\n",
    "    \n",
    "    y_t = \n",
    "    break\n",
    "        "
   ]
  },
  {
   "cell_type": "code",
   "execution_count": null,
   "id": "b3bddbf3",
   "metadata": {},
   "outputs": [],
   "source": [
    "relu([1, -1, 23])"
   ]
  },
  {
   "cell_type": "code",
   "execution_count": null,
   "id": "44b91b5e",
   "metadata": {},
   "outputs": [],
   "source": [
    "X_train[0:32].shape"
   ]
  },
  {
   "cell_type": "code",
   "execution_count": null,
   "id": "0b5d75f0",
   "metadata": {},
   "outputs": [],
   "source": [
    "matmul(X_train[i:i+32], W1)"
   ]
  },
  {
   "cell_type": "code",
   "execution_count": null,
   "id": "f749e6f2",
   "metadata": {},
   "outputs": [],
   "source": [
    "sd.add(2,-1)"
   ]
  },
  {
   "cell_type": "code",
   "execution_count": null,
   "id": "66a76795",
   "metadata": {},
   "outputs": [],
   "source": []
  }
 ],
 "metadata": {
  "kernelspec": {
   "display_name": "Python 3 (ipykernel)",
   "language": "python",
   "name": "python3"
  },
  "language_info": {
   "codemirror_mode": {
    "name": "ipython",
    "version": 3
   },
   "file_extension": ".py",
   "mimetype": "text/x-python",
   "name": "python",
   "nbconvert_exporter": "python",
   "pygments_lexer": "ipython3",
   "version": "3.8.5"
  }
 },
 "nbformat": 4,
 "nbformat_minor": 5
}
